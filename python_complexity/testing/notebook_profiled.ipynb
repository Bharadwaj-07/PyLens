{
 "cells": [
  {
   "cell_type": "code",
   "execution_count": null,
   "id": "39f1ea4f",
   "metadata": {},
   "outputs": [],
   "source": []
  },
  {
   "cell_type": "code",
   "execution_count": null,
   "id": "ad461eaf",
   "metadata": {},
   "outputs": [
    {
     "data": {
      "text/plain": [
       "'3\\nTimer unit: 1e-07 s\\n\\n'"
      ]
     },
     "execution_count": 4,
     "metadata": {},
     "output_type": "execute_result"
    }
   ],
   "source": [
    "\n",
    "\n",
    "x = 1\n",
    "y = 2  \n",
    "for i in range(1000000  \n",
    "               \n",
    "               \n",
    "               ):\n",
    "    z = x + y\n",
    "print(z) "
   ]
  },
  {
   "cell_type": "code",
   "execution_count": null,
   "id": "dd583629",
   "metadata": {},
   "outputs": [],
   "source": [
    "x=0  \n",
    "for i in range(1000):\n",
    "    x+=1  \n",
    "large_list_1 = [i] * 1000000  \n",
    "print(x)  "
   ]
  },
  {
   "cell_type": "code",
   "execution_count": null,
   "id": "da21ddd5",
   "metadata": {},
   "outputs": [],
   "source": [
    "\n",
    "for i in range(10000):\n",
    "    large_list = [i] * 1000\n",
    "    x += 1\n",
    "    # Perform a computation on the list (e.g., summing its elements)  # Hits: 10000, Time: 24968ns (0.09%)\n",
    "    sum_list = sum(large_list\n",
    "      \n",
    "    \n",
    "    )\n",
    "    _ = [x * i for i in large_list]\n",
    " \n",
    "print(x)"
   ]
  },
  {
   "cell_type": "code",
   "execution_count": null,
   "id": "e69be849",
   "metadata": {},
   "outputs": [],
   "source": [
    "x=0  \n",
    "for i in range(1000):\n",
    "    x+=1 \n",
    "print(x)  "
   ]
  },
  {
   "cell_type": "code",
   "execution_count": null,
   "id": "7f8be176",
   "metadata": {},
   "outputs": [],
   "source": [
    "x=0 \n",
    "for i in range(1000):  \n",
    "    x+=1  \n",
    "large_list_1 = [1] * 1000000  \n",
    "print(x)  "
   ]
  }
 ],
 "metadata": {
  "kernelspec": {
   "display_name": "Python 3",
   "language": "python",
   "name": "python3"
  },
  "language_info": {
   "codemirror_mode": {
    "name": "ipython",
    "version": 3
   },
   "file_extension": ".py",
   "mimetype": "text/x-python",
   "name": "python",
   "nbconvert_exporter": "python",
   "pygments_lexer": "ipython3",
   "version": "3.12.6"
  }
 },
 "nbformat": 4,
 "nbformat_minor": 5
}
